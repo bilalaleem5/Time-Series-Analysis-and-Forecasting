{
 "cells": [
  {
   "cell_type": "code",
   "execution_count": 1,
   "metadata": {},
   "outputs": [
    {
     "name": "stdout",
     "output_type": "stream",
     "text": [
      "            SN            Commodity        Date Unit  Minimum  Maximum  \\\n",
      "0            0   Tomato Big(Nepali)  2013-06-16   Kg     35.0     40.0   \n",
      "1            1  Tomato Small(Local)  2013-06-16   Kg     26.0     32.0   \n",
      "2            2           Potato Red  2013-06-16   Kg     20.0     21.0   \n",
      "3            3         Potato White  2013-06-16   Kg     15.0     16.0   \n",
      "4            4   Onion Dry (Indian)  2013-06-16   Kg     28.0     30.0   \n",
      "...        ...                  ...         ...  ...      ...      ...   \n",
      "197156  197156    Garlic Dry Nepali  2021-05-13   Kg    100.0    120.0   \n",
      "197157  197157     Fish Fresh(Rahu)  2021-05-13   KG    270.0    280.0   \n",
      "197158  197158  Fish Fresh(Bachuwa)  2021-05-13   KG    225.0    235.0   \n",
      "197159  197159   Fish Fresh(Chhadi)  2021-05-13   KG    220.0    230.0   \n",
      "197160  197160  Fish Fresh(Mungari)  2021-05-13   KG    240.0    250.0   \n",
      "\n",
      "        Average  \n",
      "0          37.5  \n",
      "1          29.0  \n",
      "2          20.5  \n",
      "3          15.5  \n",
      "4          29.0  \n",
      "...         ...  \n",
      "197156    110.0  \n",
      "197157    275.0  \n",
      "197158    230.0  \n",
      "197159    225.0  \n",
      "197160    245.0  \n",
      "\n",
      "[197161 rows x 7 columns]\n"
     ]
    }
   ],
   "source": [
    "import pandas as pd\n",
    "\n",
    "# Read the CSV file\n",
    "csv_file_path = \"vegetable.csv\"  # Replace \"sunspots.csv\" with the actual path to your CSV file\n",
    "data_df = pd.read_csv(csv_file_path)\n",
    "\n",
    "# Display the contents of the CSV file\n",
    "print(data_df)\n"
   ]
  },
  {
   "cell_type": "code",
   "execution_count": null,
   "metadata": {},
   "outputs": [],
   "source": []
  }
 ],
 "metadata": {
  "kernelspec": {
   "display_name": "Python 3",
   "language": "python",
   "name": "python3"
  },
  "language_info": {
   "codemirror_mode": {
    "name": "ipython",
    "version": 3
   },
   "file_extension": ".py",
   "mimetype": "text/x-python",
   "name": "python",
   "nbconvert_exporter": "python",
   "pygments_lexer": "ipython3",
   "version": "3.11.9"
  }
 },
 "nbformat": 4,
 "nbformat_minor": 2
}
